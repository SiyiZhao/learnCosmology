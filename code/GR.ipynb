{
 "cells": [
  {
   "cell_type": "markdown",
   "metadata": {},
   "source": [
    "# GR calculator"
   ]
  },
  {
   "cell_type": "code",
   "execution_count": 1,
   "metadata": {},
   "outputs": [],
   "source": [
    "import sympy as sp"
   ]
  },
  {
   "cell_type": "markdown",
   "metadata": {},
   "source": [
    "## Coordinate Transformations"
   ]
  },
  {
   "cell_type": "markdown",
   "metadata": {},
   "source": [
    "### energy-momentum tensor"
   ]
  },
  {
   "cell_type": "code",
   "execution_count": 2,
   "metadata": {},
   "outputs": [],
   "source": [
    "from sympy import symbols, KroneckerDelta, Function"
   ]
  },
  {
   "cell_type": "code",
   "execution_count": 3,
   "metadata": {},
   "outputs": [],
   "source": [
    "from sympy import Matrix, BlockMatrix, diff"
   ]
  },
  {
   "cell_type": "code",
   "execution_count": 4,
   "metadata": {},
   "outputs": [
    {
     "name": "stdout",
     "output_type": "stream",
     "text": [
      "Matrix([[1, 0, 0], [0, 1, 0], [0, 0, 1]])\n"
     ]
    }
   ],
   "source": [
    "# 创建符号\n",
    "i, j = symbols('i j')\n",
    "\n",
    "# 创建 3x3 Kronecker delta 矩阵\n",
    "delta_ij = Matrix(3, 3, lambda i, j: KroneckerDelta(i, j))\n",
    "\n",
    "print(delta_ij)"
   ]
  },
  {
   "cell_type": "code",
   "execution_count": 11,
   "metadata": {},
   "outputs": [],
   "source": [
    "# coordinate symbols\n",
    "t, x, y, z = symbols('t x y z')\n",
    "# coordinate transformation \n",
    "tranT, tranX, tranY, tranZ = symbols('T L1 L2 L3', cls=Function)\n",
    "tranT = tranT(x, y, z, t)\n",
    "tranX = tranX(x, y, z, t)\n",
    "tranY = tranY(x, y, z, t)\n",
    "tranZ = tranZ(x, y, z, t)"
   ]
  },
  {
   "cell_type": "markdown",
   "metadata": {},
   "source": [
    "play with Jacobi"
   ]
  },
  {
   "cell_type": "code",
   "execution_count": 6,
   "metadata": {},
   "outputs": [
    {
     "name": "stdout",
     "output_type": "stream",
     "text": [
      "Matrix([[Derivative(L1(x, y, z, t), x), Derivative(L1(x, y, z, t), y), Derivative(L1(x, y, z, t), z)], [Derivative(L2(x, y, z, t), x), Derivative(L2(x, y, z, t), y), Derivative(L2(x, y, z, t), z)], [Derivative(L3(x, y, z, t), x), Derivative(L3(x, y, z, t), y), Derivative(L3(x, y, z, t), z)]])\n"
     ]
    }
   ],
   "source": [
    "pjLi = Matrix([[diff(tranX, x), diff(tranX, y), diff(tranX, z)],\n",
    "                [diff(tranY, x), diff(tranY, y), diff(tranY, z)],\n",
    "                [diff(tranZ, x), diff(tranZ, y), diff(tranZ, z)]])\n",
    "\n",
    "print(pjLi)"
   ]
  },
  {
   "cell_type": "code",
   "execution_count": 24,
   "metadata": {},
   "outputs": [
    {
     "data": {
      "text/latex": [
       "$\\displaystyle \\left[\\begin{matrix}\\frac{\\partial}{\\partial x} T{\\left(x,y,z,t \\right)}\\\\\\frac{\\partial}{\\partial y} T{\\left(x,y,z,t \\right)}\\\\\\frac{\\partial}{\\partial z} T{\\left(x,y,z,t \\right)}\\end{matrix}\\right]$"
      ],
      "text/plain": [
       "Matrix([\n",
       "[Derivative(T(x, y, z, t), x)],\n",
       "[Derivative(T(x, y, z, t), y)],\n",
       "[Derivative(T(x, y, z, t), z)]])"
      ]
     },
     "execution_count": 24,
     "metadata": {},
     "output_type": "execute_result"
    }
   ],
   "source": [
    "Matrix([diff(tranT, x), diff(tranT, y), diff(tranT, z)])"
   ]
  },
  {
   "cell_type": "code",
   "execution_count": 18,
   "metadata": {},
   "outputs": [],
   "source": [
    "ja_tt = Matrix([1 + diff(tranT, t)])\n",
    "ja_tx = Matrix([diff(tranT, x), diff(tranT, y), diff(tranT, z)])\n",
    "ja_xt = Matrix([diff(tranX, t), diff(tranY, t), diff(tranZ, t)])\n",
    "ja_xx = delta_ij + pjLi "
   ]
  },
  {
   "cell_type": "code",
   "execution_count": 27,
   "metadata": {},
   "outputs": [
    {
     "data": {
      "text/latex": [
       "$\\displaystyle \\left[\\begin{matrix}\\frac{\\partial}{\\partial x} L_{1}{\\left(x,y,z,t \\right)} + 1 & \\frac{\\partial}{\\partial y} L_{1}{\\left(x,y,z,t \\right)} & \\frac{\\partial}{\\partial z} L_{1}{\\left(x,y,z,t \\right)}\\\\\\frac{\\partial}{\\partial x} L_{2}{\\left(x,y,z,t \\right)} & \\frac{\\partial}{\\partial y} L_{2}{\\left(x,y,z,t \\right)} + 1 & \\frac{\\partial}{\\partial z} L_{2}{\\left(x,y,z,t \\right)}\\\\\\frac{\\partial}{\\partial x} L_{3}{\\left(x,y,z,t \\right)} & \\frac{\\partial}{\\partial y} L_{3}{\\left(x,y,z,t \\right)} & \\frac{\\partial}{\\partial z} L_{3}{\\left(x,y,z,t \\right)} + 1\\end{matrix}\\right]$"
      ],
      "text/plain": [
       "Matrix([\n",
       "[Derivative(L1(x, y, z, t), x) + 1,     Derivative(L1(x, y, z, t), y),     Derivative(L1(x, y, z, t), z)],\n",
       "[    Derivative(L2(x, y, z, t), x), Derivative(L2(x, y, z, t), y) + 1,     Derivative(L2(x, y, z, t), z)],\n",
       "[    Derivative(L3(x, y, z, t), x),     Derivative(L3(x, y, z, t), y), Derivative(L3(x, y, z, t), z) + 1]])"
      ]
     },
     "execution_count": 27,
     "metadata": {},
     "output_type": "execute_result"
    }
   ],
   "source": [
    "delta_ij + pjLi "
   ]
  },
  {
   "cell_type": "code",
   "execution_count": 30,
   "metadata": {},
   "outputs": [
    {
     "data": {
      "text/latex": [
       "$\\displaystyle \\left[\\begin{matrix}\\frac{\\partial}{\\partial t} T{\\left(x,y,z,t \\right)} + 1 & \\frac{\\partial}{\\partial x} T{\\left(x,y,z,t \\right)} & \\frac{\\partial}{\\partial y} T{\\left(x,y,z,t \\right)} & \\frac{\\partial}{\\partial z} T{\\left(x,y,z,t \\right)}\\\\\\frac{\\partial}{\\partial t} L_{1}{\\left(x,y,z,t \\right)} & \\frac{\\partial}{\\partial x} L_{1}{\\left(x,y,z,t \\right)} + 1 & \\frac{\\partial}{\\partial y} L_{1}{\\left(x,y,z,t \\right)} & \\frac{\\partial}{\\partial z} L_{1}{\\left(x,y,z,t \\right)}\\\\\\frac{\\partial}{\\partial t} L_{2}{\\left(x,y,z,t \\right)} & \\frac{\\partial}{\\partial x} L_{2}{\\left(x,y,z,t \\right)} & \\frac{\\partial}{\\partial y} L_{2}{\\left(x,y,z,t \\right)} + 1 & \\frac{\\partial}{\\partial z} L_{2}{\\left(x,y,z,t \\right)}\\\\\\frac{\\partial}{\\partial t} L_{3}{\\left(x,y,z,t \\right)} & \\frac{\\partial}{\\partial x} L_{3}{\\left(x,y,z,t \\right)} & \\frac{\\partial}{\\partial y} L_{3}{\\left(x,y,z,t \\right)} & \\frac{\\partial}{\\partial z} L_{3}{\\left(x,y,z,t \\right)} + 1\\end{matrix}\\right]$"
      ],
      "text/plain": [
       "Matrix([\n",
       "[Derivative(T(x, y, z, t), t) + 1,      Derivative(T(x, y, z, t), x),      Derivative(T(x, y, z, t), y),      Derivative(T(x, y, z, t), z)],\n",
       "[   Derivative(L1(x, y, z, t), t), Derivative(L1(x, y, z, t), x) + 1,     Derivative(L1(x, y, z, t), y),     Derivative(L1(x, y, z, t), z)],\n",
       "[   Derivative(L2(x, y, z, t), t),     Derivative(L2(x, y, z, t), x), Derivative(L2(x, y, z, t), y) + 1,     Derivative(L2(x, y, z, t), z)],\n",
       "[   Derivative(L3(x, y, z, t), t),     Derivative(L3(x, y, z, t), x),     Derivative(L3(x, y, z, t), y), Derivative(L3(x, y, z, t), z) + 1]])"
      ]
     },
     "execution_count": 30,
     "metadata": {},
     "output_type": "execute_result"
    }
   ],
   "source": [
    "BlockMatrix([[ja_tt, ja_tx.T], [ja_xt, ja_xx]]).as_explicit()"
   ]
  },
  {
   "cell_type": "code",
   "execution_count": 33,
   "metadata": {},
   "outputs": [],
   "source": [
    "jacobi = BlockMatrix([[ja_tt, ja_tx.T], [ja_xt, ja_xx]]).as_explicit()"
   ]
  },
  {
   "cell_type": "code",
   "execution_count": 34,
   "metadata": {},
   "outputs": [],
   "source": [
    "inv_jacobi = BlockMatrix([[Matrix([1 - diff(tranT, t)]), -ja_tx.T], [-ja_xt, delta_ij - pjLi]]).as_explicit()"
   ]
  },
  {
   "cell_type": "markdown",
   "metadata": {},
   "source": [
    "### the energy-momentum tensor"
   ]
  },
  {
   "cell_type": "code",
   "execution_count": null,
   "metadata": {},
   "outputs": [],
   "source": []
  }
 ],
 "metadata": {
  "kernelspec": {
   "display_name": "astropy",
   "language": "python",
   "name": "python3"
  },
  "language_info": {
   "codemirror_mode": {
    "name": "ipython",
    "version": 3
   },
   "file_extension": ".py",
   "mimetype": "text/x-python",
   "name": "python",
   "nbconvert_exporter": "python",
   "pygments_lexer": "ipython3",
   "version": "3.8.8"
  }
 },
 "nbformat": 4,
 "nbformat_minor": 2
}
