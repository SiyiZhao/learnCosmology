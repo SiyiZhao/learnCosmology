{
 "cells": [
  {
   "cell_type": "markdown",
   "metadata": {},
   "source": [
    "r = (a * b) / √(a^2 * sin^2(θ) + b^2 * cos^2(θ))"
   ]
  },
  {
   "cell_type": "markdown",
   "metadata": {},
   "source": [
    "$$ \\frac{d r}{d \\theta} = -ab \\frac{(a^2  \\sin(\\theta) \\cos(\\theta) - b^2 \\cos(\\theta) \\sin(\\theta))}{(a^2 \\sin^2(\\theta) + b^2 \\cos^2(\\theta))^{3/2}}$$\n",
    "\n",
    "$$ \\frac{r d \\theta}{dt} = const.$$\n",
    "\n",
    "$$ \\frac{dr}{dt} = \\frac{d r}{d \\theta} \\frac{r d \\theta}{dt} \\frac{1}{r} = - \\frac{(a^2  \\sin(\\theta) \\cos(\\theta) - b^2 \\cos(\\theta) \\sin(\\theta))}{(a^2 \\sin^2(\\theta) + b^2 \\cos^2(\\theta))} const. $$"
   ]
  },
  {
   "cell_type": "markdown",
   "metadata": {},
   "source": []
  },
  {
   "cell_type": "code",
   "execution_count": null,
   "metadata": {},
   "outputs": [],
   "source": []
  }
 ],
 "metadata": {
  "language_info": {
   "name": "python"
  }
 },
 "nbformat": 4,
 "nbformat_minor": 2
}
