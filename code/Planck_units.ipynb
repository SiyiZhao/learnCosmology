{
 "cells": [
  {
   "cell_type": "markdown",
   "metadata": {},
   "source": [
    "## scipy: tranditional way?"
   ]
  },
  {
   "cell_type": "code",
   "execution_count": 1,
   "metadata": {},
   "outputs": [],
   "source": [
    "from scipy.constants import Planck, c, hbar, Boltzmann, G"
   ]
  },
  {
   "cell_type": "code",
   "execution_count": 2,
   "metadata": {},
   "outputs": [
    {
     "name": "stdout",
     "output_type": "stream",
     "text": [
      "Planck constant (J s): 6.62607015e-34\n",
      "Planck constant/2pi = hbar (J s): 1.0545718176461565e-34\n",
      "Speed of light (m/s): 299792458.0\n",
      "Reduced Planck constant (J s): 1.0545718176461565e-34\n",
      "Boltzmann constant (J/K): 1.380649e-23\n"
     ]
    }
   ],
   "source": [
    "print(\"Planck constant (J s):\", Planck)\n",
    "print(\"Planck constant/2pi = hbar (J s):\", hbar)\n",
    "print(\"Speed of light (m/s):\", c)\n",
    "print(\"Reduced Planck constant (J s):\", hbar)\n",
    "print(\"Boltzmann constant (J/K):\", Boltzmann)"
   ]
  },
  {
   "cell_type": "code",
   "execution_count": 3,
   "metadata": {},
   "outputs": [
    {
     "name": "stdout",
     "output_type": "stream",
     "text": [
      "Planck length (m): 1.6162550244237053e-35\n"
     ]
    }
   ],
   "source": [
    "planck_length = (hbar * G / c**3)**0.5\n",
    "print(\"Planck length (m):\", planck_length)"
   ]
  },
  {
   "cell_type": "markdown",
   "metadata": {},
   "source": [
    "## astropy with units calculation"
   ]
  },
  {
   "cell_type": "code",
   "execution_count": 8,
   "metadata": {},
   "outputs": [],
   "source": [
    "from astropy.constants import hbar, c, G, k_B"
   ]
  },
  {
   "cell_type": "code",
   "execution_count": 5,
   "metadata": {},
   "outputs": [
    {
     "name": "stdout",
     "output_type": "stream",
     "text": [
      "Planck constant:   Name   = Reduced Planck constant\n",
      "  Value  = 1.0545718176461565e-34\n",
      "  Uncertainty  = 0.0\n",
      "  Unit  = J s\n",
      "  Reference = CODATA 2018\n",
      "Speed of light:   Name   = Speed of light in vacuum\n",
      "  Value  = 299792458.0\n",
      "  Uncertainty  = 0.0\n",
      "  Unit  = m / s\n",
      "  Reference = CODATA 2018\n",
      "Gravitational constant:   Name   = Gravitational constant\n",
      "  Value  = 6.6743e-11\n",
      "  Uncertainty  = 1.5e-15\n",
      "  Unit  = m3 / (kg s2)\n",
      "  Reference = CODATA 2018\n",
      "Boltzmann constant:   Name   = Boltzmann constant\n",
      "  Value  = 1.380649e-23\n",
      "  Uncertainty  = 0.0\n",
      "  Unit  = J / K\n",
      "  Reference = CODATA 2018\n"
     ]
    }
   ],
   "source": [
    "print(\"Planck constant:\", hbar)\n",
    "print(\"Speed of light:\", c)\n",
    "print(\"Gravitational constant:\", G)\n",
    "print(\"Boltzmann constant:\", k_B)"
   ]
  },
  {
   "cell_type": "markdown",
   "metadata": {},
   "source": [
    "We start with **Planck mass**, which is defined with *the Schwazchild radia = Compton wavelength /2pi* (or \"reduced Compton wavelength)\n",
    "\n",
    "$$\n",
    "m_{\\rm Pl} = (\\frac{\\hbar c}{G})^2\n",
    "$$"
   ]
  },
  {
   "cell_type": "code",
   "execution_count": 8,
   "metadata": {},
   "outputs": [
    {
     "name": "stdout",
     "output_type": "stream",
     "text": [
      "Planck mass: 2.1764343427178985e-05 g\n"
     ]
    }
   ],
   "source": [
    "planck_mass = ((hbar * c / G)**0.5).to('g')\n",
    "print(\"Planck mass:\", planck_mass)"
   ]
  },
  {
   "cell_type": "markdown",
   "metadata": {},
   "source": [
    "计算这个相等的长度"
   ]
  },
  {
   "cell_type": "code",
   "execution_count": 9,
   "metadata": {},
   "outputs": [
    {
     "name": "stdout",
     "output_type": "stream",
     "text": [
      "Planck length: 1.6162550244237054e-33 cm\n"
     ]
    }
   ],
   "source": [
    "planck_length = ((hbar * G / c**3)**0.5).to(\"cm\")\n",
    "print(\"Planck length:\", planck_length)"
   ]
  },
  {
   "cell_type": "markdown",
   "metadata": {},
   "source": [
    "从 Planck 质量、长度 导出 Planck 温度（能标）、时间"
   ]
  },
  {
   "cell_type": "code",
   "execution_count": 22,
   "metadata": {},
   "outputs": [
    {
     "name": "stdout",
     "output_type": "stream",
     "text": [
      "Planck temperature: 1.4167841621573426e+32 K\n"
     ]
    }
   ],
   "source": [
    "planck_temperature = (planck_mass * c**2 / k_B).to(\"K\")\n",
    "print(\"Planck temperature:\", planck_temperature)"
   ]
  },
  {
   "cell_type": "code",
   "execution_count": 24,
   "metadata": {},
   "outputs": [
    {
     "name": "stdout",
     "output_type": "stream",
     "text": [
      "Planck energy: 1.2208901285838957e+19 GeV\n"
     ]
    }
   ],
   "source": [
    "planck_energy = (planck_temperature * k_B).to(\"GeV\")\n",
    "print(\"Planck energy:\", planck_energy)"
   ]
  },
  {
   "cell_type": "code",
   "execution_count": 20,
   "metadata": {},
   "outputs": [
    {
     "name": "stdout",
     "output_type": "stream",
     "text": [
      "Planck time: 5.391246448313605e-44 s\n"
     ]
    }
   ],
   "source": [
    "planck_time = (planck_length / c).to(\"s\")\n",
    "print(\"Planck time:\", planck_time)"
   ]
  },
  {
   "cell_type": "markdown",
   "metadata": {},
   "source": [
    "长度还可以推出面积，和质量推出密度。（普朗克单位制本身的数值是极早期宇宙（普朗克时间尺度）的物理状态，所以在早期比较适用）"
   ]
  },
  {
   "cell_type": "code",
   "execution_count": 27,
   "metadata": {},
   "outputs": [
    {
     "name": "stdout",
     "output_type": "stream",
     "text": [
      "Planck area: 2.612280303974873e-66 cm2\n",
      "Planck volume: 4.222111166502472e-99 cm3\n",
      "Planck density: 5.154848503244933e+93 g / cm3\n"
     ]
    }
   ],
   "source": [
    "planck_area = (planck_length**2).to(\"cm2\")\n",
    "print(\"Planck area:\", planck_area)\n",
    "planck_volume = (planck_length**3).to(\"cm3\")\n",
    "print(\"Planck volume:\", planck_volume)\n",
    "planck_density = (planck_mass / planck_length**3).to(\"g/cm3\")\n",
    "print(\"Planck density:\", planck_density)"
   ]
  },
  {
   "cell_type": "code",
   "execution_count": 1,
   "metadata": {},
   "outputs": [],
   "source": [
    "import astropy.units as u"
   ]
  },
  {
   "cell_type": "code",
   "execution_count": 10,
   "metadata": {},
   "outputs": [
    {
     "data": {
      "text/latex": [
       "$5.6095886 \\times 10^{38} \\; \\mathrm{GeV}$"
      ],
      "text/plain": [
       "<Quantity 5.6095886e+38 GeV>"
      ]
     },
     "execution_count": 10,
     "metadata": {},
     "output_type": "execute_result"
    }
   ],
   "source": [
    "(1e15 * u.g*c**2).to('GeV')"
   ]
  },
  {
   "cell_type": "markdown",
   "metadata": {},
   "source": [
    "## 用Planck Units做计算"
   ]
  },
  {
   "cell_type": "code",
   "execution_count": null,
   "metadata": {},
   "outputs": [],
   "source": []
  }
 ],
 "metadata": {
  "kernelspec": {
   "display_name": "astropy",
   "language": "python",
   "name": "python3"
  },
  "language_info": {
   "codemirror_mode": {
    "name": "ipython",
    "version": 3
   },
   "file_extension": ".py",
   "mimetype": "text/x-python",
   "name": "python",
   "nbconvert_exporter": "python",
   "pygments_lexer": "ipython3",
   "version": "3.8.8"
  }
 },
 "nbformat": 4,
 "nbformat_minor": 2
}
